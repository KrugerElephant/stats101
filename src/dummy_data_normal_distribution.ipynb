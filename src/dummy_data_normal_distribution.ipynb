{
 "cells": [
  {
   "cell_type": "code",
   "execution_count": 1,
   "metadata": {},
   "outputs": [],
   "source": [
    "import pandas as pd\n",
    "from random import randint\n",
    "import matplotlib.pyplot as plt\n",
    "import numpy as np\n",
    "\n",
    "\n",
    "# Create a variable for data file name\n",
    "output_filename = \"../data/jadavpur_students.csv\"\n",
    "\n",
    "# Initialize empty list\n",
    "data = []\n",
    "\n",
    "# Number of data samples\n",
    "N = 10000\n",
    "\n",
    "# Create normal distribution of male weights\n",
    "mu = 65 # mean\n",
    "sigma = 6 # standard deviation\n",
    "male_weights = np.random.normal(mu, sigma, N)\n",
    "\n",
    "\n",
    "# Create normal distribution of female weights\n",
    "mu = 55 # mean\n",
    "sigma = 6 # standard deviation\n",
    "female_weights = np.random.normal(mu, sigma, N)\n",
    "\n",
    "# Iterate from 0 to N-1\n",
    "for i in range(N):\n",
    "\n",
    "    # Create a dummy person, \n",
    "    person = {\n",
    "        \"id\": i+1,\n",
    "        \"weight\": 0,\n",
    "        \"gender\": \"F\"\n",
    "    }\n",
    "\n",
    "    # Alternate gender between male and female\n",
    "    person[\"gender\"] = \"M\" if i % 2 == 0 else \"F\"\n",
    "    person[\"weight\"] = male_weights[randint(0, N-1)] if i % 2 == 0 else female_weights[randint(0, N-1)]\n",
    "\n",
    "    # Append to list\n",
    "    data.append(person)\n",
    "\n",
    "# -----------------------------------------------\n",
    "\n",
    "# Create data frame\n",
    "df = pd.DataFrame(data)\n",
    "\n",
    "# Write data to a .csv file\n",
    "df.to_csv(output_filename, index=False)\n"
   ]
  },
  {
   "cell_type": "code",
   "execution_count": 2,
   "metadata": {},
   "outputs": [],
   "source": [
    "from ipywidgets import interact\n",
    "\n",
    "def interactive_plot(sample_size, bins):\n",
    "\n",
    "    df = pd.read_csv(output_filename)\n",
    "\n",
    "    df = df.sample(sample_size)\n",
    "    df.shape\n",
    "    \n",
    "    # For weights\n",
    "    males = df.loc[(df[\"gender\"] == \"M\")]\n",
    "    females = df.loc[(df[\"gender\"] == \"F\")]\n",
    "\n",
    "    figure, ax = plt.subplots(2, 1)\n",
    "\n",
    "    style = {'edgecolor': 'C3', 'linewidth': 0.5}\n",
    "\n",
    "    plt.rcParams[\"figure.autolayout\"] = True\n",
    "    plt.rcParams[\"figure.figsize\"] = [9, 7]\n",
    "\n",
    "\n",
    "    plt.xlabel('Weight (kilos)')\n",
    "    plt.title(\"\")\n",
    "\n",
    "    df.hist(\"weight\", label=\"All\", ax=ax[0], bins=bins, **style)\n",
    "    males.hist(\"weight\", label=\"M\", ax=ax[1], bins=bins, **style)\n",
    "    females.hist(\"weight\", label=\"F\", ax=ax[1], bins=bins, **style)\n",
    "\n",
    "    plt.legend(loc='upper right')\n",
    "\n",
    "    # Combine all the operations and display\n",
    "    plt.show()"
   ]
  },
  {
   "cell_type": "code",
   "execution_count": 3,
   "metadata": {},
   "outputs": [
    {
     "data": {
      "application/vnd.jupyter.widget-view+json": {
       "model_id": "a81a132782e14cb4aa99b5eb3aa1e3a6",
       "version_major": 2,
       "version_minor": 0
      },
      "text/plain": [
       "interactive(children=(IntSlider(value=5005, description='sample_size', max=10000, min=10), IntSlider(value=11,…"
      ]
     },
     "metadata": {},
     "output_type": "display_data"
    },
    {
     "data": {
      "text/plain": [
       "<function __main__.interactive_plot(sample_size, bins)>"
      ]
     },
     "execution_count": 3,
     "metadata": {},
     "output_type": "execute_result"
    }
   ],
   "source": [
    "interact(interactive_plot, sample_size = (10, 10000, 1), bins=(3, 20, 1))"
   ]
  }
 ],
 "metadata": {
  "kernelspec": {
   "display_name": ".venv",
   "language": "python",
   "name": "python3"
  },
  "language_info": {
   "codemirror_mode": {
    "name": "ipython",
    "version": 3
   },
   "file_extension": ".py",
   "mimetype": "text/x-python",
   "name": "python",
   "nbconvert_exporter": "python",
   "pygments_lexer": "ipython3",
   "version": "3.12.3"
  }
 },
 "nbformat": 4,
 "nbformat_minor": 2
}
