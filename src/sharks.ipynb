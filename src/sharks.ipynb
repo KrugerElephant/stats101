{
 "cells": [
  {
   "cell_type": "code",
   "execution_count": null,
   "metadata": {},
   "outputs": [],
   "source": [
    "import numpy as np\n",
    "import matplotlib.pyplot as plt\n",
    "import pandas as pd\n",
    "\n",
    "# Read the data from the file into a table called \"dataframe\"\n",
    "\n",
    "filename = \"../data/Morphometrics_Sp1_Jan-March.csv\"\n",
    "\n",
    "# read_csv function reads the data file and save the data in a table (dataframe)\n",
    "df = pd.read_csv(filename)"
   ]
  },
  {
   "cell_type": "code",
   "execution_count": null,
   "metadata": {},
   "outputs": [],
   "source": [
    "\n",
    "# prints the first 5 rows of the table\n",
    "df.head()\n"
   ]
  },
  {
   "cell_type": "code",
   "execution_count": null,
   "metadata": {},
   "outputs": [],
   "source": [
    "# Sixe of the table in rows and columns\n",
    "\n",
    "df.shape"
   ]
  },
  {
   "cell_type": "code",
   "execution_count": null,
   "metadata": {},
   "outputs": [],
   "source": [
    "# print the names of the columns in the table (not values)\n",
    "\n",
    "df.columns"
   ]
  },
  {
   "cell_type": "code",
   "execution_count": null,
   "metadata": {},
   "outputs": [],
   "source": [
    "# Create a variable called param\n",
    "\n",
    "param = 'Weight (gm)'"
   ]
  },
  {
   "cell_type": "code",
   "execution_count": null,
   "metadata": {},
   "outputs": [],
   "source": [
    "# I can access all the values in this column\n",
    "print(df[param])"
   ]
  },
  {
   "cell_type": "code",
   "execution_count": null,
   "metadata": {},
   "outputs": [],
   "source": [
    "\n",
    "# Plot a histogram of shark weights\n",
    "\n",
    "fig = plt.figure(figsize =(10, 5))\n",
    "\n",
    "plt.hist(df[param], bins=20)\n",
    "\n",
    "plt.ylabel('Count')\n",
    "plt.xlabel(param)\n",
    "\n",
    "plt.show()\n"
   ]
  },
  {
   "cell_type": "code",
   "execution_count": null,
   "metadata": {},
   "outputs": [],
   "source": [
    "# Box-whisker plot, another way to visualize the data\n",
    "\n",
    "fig = plt.figure(figsize =(6, 3))\n",
    "\n",
    "# Creating plot\n",
    "plt.boxplot(df[param], vert=0)\n",
    "\n",
    "# show plot\n",
    "plt.show()\n",
    "\n",
    "\n",
    "# Thereis one shark which is very heavy....outlier, the dot on the right\n",
    "# Orange line is the average"
   ]
  },
  {
   "cell_type": "code",
   "execution_count": null,
   "metadata": {},
   "outputs": [],
   "source": [
    "#  To create summary statistics table (mean, min, max, median and the percentiles)\n",
    "\n",
    "params = ['Weight (gm)', \n",
    "       'Total Length (TL) (cm)', 'Fork Length (FL) (cm)',\n",
    "       'Pre-pectoral Length (PPL) (cm)', 'Pre-pelvic Length (PPEL) (cm)',\n",
    "       'Pre-anal Length (PAL) (cm)', 'Head Length (HL) (cm)',\n",
    "       'Eye Length (EL) (cm)', '1st Dorsal Fin (cm)', '2nd Dorsal Fin (cm)',\n",
    "       'Pectoral Fin (cm)', 'Pelvic Fin (cm)', 'Anal Fin (cm)',\n",
    "       'Caudal Fin (cm)']\n",
    "\n",
    "summary_stats = df[params].describe()"
   ]
  },
  {
   "cell_type": "code",
   "execution_count": null,
   "metadata": {},
   "outputs": [],
   "source": [
    "summary_stats\n",
    "\n",
    "# The max weight is 361 grams, and that is the outlier on the box whisker plot and in the histogram"
   ]
  },
  {
   "cell_type": "code",
   "execution_count": null,
   "metadata": {},
   "outputs": [],
   "source": [
    "# You can save the summary stats to a .csv file. You can open that in excel.\n",
    "\n",
    "csv_file = '../data/shark_summary_stats.csv'\n",
    "summary_stats.to_csv(csv_file)\n"
   ]
  }
 ],
 "metadata": {
  "kernelspec": {
   "display_name": ".venv",
   "language": "python",
   "name": "python3"
  },
  "language_info": {
   "codemirror_mode": {
    "name": "ipython",
    "version": 3
   },
   "file_extension": ".py",
   "mimetype": "text/x-python",
   "name": "python",
   "nbconvert_exporter": "python",
   "pygments_lexer": "ipython3",
   "version": "3.12.3"
  }
 },
 "nbformat": 4,
 "nbformat_minor": 2
}
