{
 "cells": [
  {
   "cell_type": "code",
   "execution_count": 2,
   "metadata": {},
   "outputs": [
    {
     "data": {
      "application/vnd.jupyter.widget-view+json": {
       "model_id": "f6ddc87cc5fb4be995dcf954b36a5fdf",
       "version_major": 2,
       "version_minor": 0
      },
      "text/plain": [
       "interactive(children=(FloatSlider(value=3.0, description='amplitude', max=5.0, min=1.0), FloatSlider(value=5.0…"
      ]
     },
     "metadata": {},
     "output_type": "display_data"
    },
    {
     "data": {
      "text/plain": [
       "<function __main__.interactive_plot(amplitude, frequency)>"
      ]
     },
     "execution_count": 2,
     "metadata": {},
     "output_type": "execute_result"
    }
   ],
   "source": [
    "import numpy as np\n",
    "import matplotlib.pyplot as plt\n",
    "from ipywidgets import interact\n",
    "\n",
    "\n",
    "def interactive_plot(amplitude, frequency):\n",
    "\tx = np.linspace(0, 2 * np.pi, 1000)\n",
    "\ty = amplitude * np.sin(frequency * x)\n",
    "\tplt.figure(figsize=(8, 4))\n",
    "\tplt.plot(x, y)\n",
    "\tplt.xlabel('X-axis')\n",
    "\tplt.ylabel('Y-axis')\n",
    "\tplt.title('Interactive Sine Wave')\n",
    "\tplt.grid(True)\n",
    "\tplt.show()\n",
    "\n",
    "\n",
    "interact(interactive_plot, amplitude=(1, 5, 0.1), frequency=(1, 10, 0.1))\n"
   ]
  }
 ],
 "metadata": {
  "kernelspec": {
   "display_name": ".venv",
   "language": "python",
   "name": "python3"
  },
  "language_info": {
   "codemirror_mode": {
    "name": "ipython",
    "version": 3
   },
   "file_extension": ".py",
   "mimetype": "text/x-python",
   "name": "python",
   "nbconvert_exporter": "python",
   "pygments_lexer": "ipython3",
   "version": "3.12.3"
  }
 },
 "nbformat": 4,
 "nbformat_minor": 2
}
