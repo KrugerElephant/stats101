{
 "cells": [
  {
   "cell_type": "markdown",
   "metadata": {},
   "source": [
    "# Normal distribution (The Bell Shaped Curve) is also know as Gaussian distribution\n",
    "\n",
    "Most values in the data are near the center of the range of the data. For example the weight of adult humans in kilograms in Asia. The range is 45 to 85 kilos and most people weight around 65 kilos\n",
    "\n",
    "The center of the range is the mean or the average of the data.\n",
    "\n",
    "Execute the code block below to see an interacive graph.\n",
    "Use the slider to change the values of standard deviation.\n",
    "What you observe about the shape of the \"bell curve\"?"
   ]
  },
  {
   "cell_type": "code",
   "execution_count": 35,
   "metadata": {},
   "outputs": [
    {
     "data": {
      "application/vnd.jupyter.widget-view+json": {
       "model_id": "7623a44cea5544909b2a4d85d7948c52",
       "version_major": 2,
       "version_minor": 0
      },
      "text/plain": [
       "interactive(children=(FloatSlider(value=65.0, description='mean', max=85.0, min=45.0, step=0.5), FloatSlider(v…"
      ]
     },
     "metadata": {},
     "output_type": "display_data"
    },
    {
     "data": {
      "text/plain": [
       "<function __main__.interactive_plot(mean, standard_deviation, sample_size)>"
      ]
     },
     "execution_count": 35,
     "metadata": {},
     "output_type": "execute_result"
    }
   ],
   "source": [
    "from ipywidgets import interact\n",
    "import matplotlib.pyplot as plt\n",
    "import numpy as np\n",
    "\n",
    "def interactive_plot(mean, standard_deviation, sample_size):\n",
    "\n",
    "    # Generate a set of normally distributed random numbers\n",
    "    data = np.random.normal(mean, standard_deviation, sample_size)\n",
    "\n",
    "    # Specify the width and height of the plot\n",
    "    plt.figure(figsize=(7, 4))\n",
    "\n",
    "    # Plot the histogram, also called the frequecy distribution or probability distribution\n",
    "    plt.hist(data, range=[40, 100], align='mid')\n",
    "\n",
    "    # Fix the min and max values of the y-xis\n",
    "    plt.ylim(0, sample_size+5)  \n",
    "\n",
    "    # Plot the x and y axis labels\n",
    "    plt.xlabel('Weight (kilos)')\n",
    "    plt.ylabel('Number of people')\n",
    "\n",
    "    plt.show()\n",
    "\n",
    "interact(interactive_plot, mean=(45, 85, 0.5), standard_deviation=(1, 15, 0.5), sample_size=(5, 1000, 1))\n"
   ]
  },
  {
   "cell_type": "markdown",
   "metadata": {},
   "source": [
    "The bell shaped curve is narrow and tall when most of the data points are clustered near the center.\n",
    "The curve is flat and broad when the data points are dispered wideley around the mid point."
   ]
  }
 ],
 "metadata": {
  "kernelspec": {
   "display_name": ".venv",
   "language": "python",
   "name": "python3"
  },
  "language_info": {
   "codemirror_mode": {
    "name": "ipython",
    "version": 3
   },
   "file_extension": ".py",
   "mimetype": "text/x-python",
   "name": "python",
   "nbconvert_exporter": "python",
   "pygments_lexer": "ipython3",
   "version": "3.12.3"
  }
 },
 "nbformat": 4,
 "nbformat_minor": 2
}
