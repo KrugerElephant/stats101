{
 "cells": [
  {
   "cell_type": "markdown",
   "metadata": {},
   "source": [
    "# Normal distribution (The Bell Shaped Curve) is also know as Gaussian distribution\n",
    "\n",
    "Most values in the data are near the center of the range of the data. For example the weight of adult humans in kilograms in Asia. The range is 45 to 85 kilos and most people weight around 65 kilos\n",
    "\n",
    "The center of the range is the mean or the average of the data.\n",
    "\n",
    "Execute the code block below to see an interacive graph. Use the slider to change the values of standard deviation. What you observe about the shape of the \"bell curve\"?\n",
    "\n",
    "The bell shaped curve is narrow and tall when most of the data points are clustered near the center. The curve is flat and broad when the data points are dispered widely around the mid point."
   ]
  },
  {
   "cell_type": "code",
   "execution_count": null,
   "metadata": {},
   "outputs": [],
   "source": [
    "from ipywidgets import interact\n",
    "import matplotlib.pyplot as plt\n",
    "import numpy as np\n",
    "\n",
    "# Define a function\n",
    "def interactive_plot(mean, std_dev, sample_size):\n",
    "\n",
    "    # Generate a set of normally distributed random numbers\n",
    "    data = np.random.normal(mean, std_dev, sample_size)\n",
    "\n",
    "    plt.figure(figsize=(8, 4))\n",
    "\n",
    "    # Plot the histogram, also called the frequecy distribution or probability distribution\n",
    "    plt.hist(data, range=[40, 100])\n",
    "\n",
    "    # Set x and y axis labels\n",
    "    plt.xlabel('Weight (kilos)')\n",
    "    plt.ylabel('Count')\n",
    "\n",
    "    # Set title\n",
    "    plt.title('Histogram')\n",
    "\n",
    "    # Grid the graph\n",
    "    plt.grid(True)\n",
    "\n",
    "    # Display\n",
    "    plt.show()\n",
    "\n",
    "# Call the function\n",
    "interact(interactive_plot, mean=(45, 85, 0.5), std_dev=(1, 15, 0.5), sample_size=(5, 1000, 1))\n"
   ]
  },
  {
   "cell_type": "markdown",
   "metadata": {},
   "source": [
    "We will also learn to plot non interactive plot and save the plot output."
   ]
  },
  {
   "cell_type": "code",
   "execution_count": null,
   "metadata": {},
   "outputs": [],
   "source": [
    "# Define a function\n",
    "\n",
    "def simple_plot(data):\n",
    "    \n",
    "    plt.figure(figsize=(8, 4))\n",
    "\n",
    "    # Plot the histogram, also called the frequecy distribution or probability distribution\n",
    "    plt.hist(data, range=[40, 100])\n",
    "\n",
    "    # Set x and y axis labels\n",
    "    plt.xlabel('Weight (kilos)')\n",
    "    plt.ylabel('Count')\n",
    "\n",
    "    # Set title\n",
    "    plt.title('Histogram')\n",
    "\n",
    "    # Grid the graph\n",
    "    plt.grid(True)\n",
    "    \n",
    "\n",
    "# Define variables\n",
    "\n",
    "mean = 65\n",
    "std_dev = 8\n",
    "sample_size = 500\n",
    "\n",
    "# Generate a set of normally distributed random numbers\n",
    "data = np.random.normal(mean, std_dev, sample_size)\n",
    "\n",
    "# Call the function\n",
    "simple_plot(data)"
   ]
  },
  {
   "cell_type": "markdown",
   "metadata": {},
   "source": [
    "**Mathematical formule to calculate the Mean, Variance and Standard Deviation**\n",
    "\n",
    "mean = sum of all values % sample_size\n",
    "\n",
    "**Variance** is measure of dispersion in the data set. A measure of how much the values differ from the mean.\n",
    "\n",
    "It is the average of the squared differences from the mean.\n",
    "\n",
    "Why square?\n",
    "\n",
    "The deviation from the mean could be positive  or negative. When we take average of the deviations from the mean, postives and negatives will cancel each other. But the square of a negative number is positive, therefore we square the deviation before calculating the average of the deviations\n",
    "\n",
    "\n",
    "After calculating the variance we take the square root (the opposite of squaring) and this is called the \"Standard Deviation\"\n",
    "\n",
    "**Standard Deviation** is the square root of the Variance.\n"
   ]
  }
 ],
 "metadata": {
  "kernelspec": {
   "display_name": ".venv",
   "language": "python",
   "name": "python3"
  },
  "language_info": {
   "codemirror_mode": {
    "name": "ipython",
    "version": 3
   },
   "file_extension": ".py",
   "mimetype": "text/x-python",
   "name": "python",
   "nbconvert_exporter": "python",
   "pygments_lexer": "ipython3",
   "version": "3.12.3"
  }
 },
 "nbformat": 4,
 "nbformat_minor": 2
}
